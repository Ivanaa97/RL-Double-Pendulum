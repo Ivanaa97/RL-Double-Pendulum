{
 "cells": [
  {
   "cell_type": "markdown",
   "id": "07e3a31c",
   "metadata": {},
   "source": [
    "# Double pole balancing task solved by function approximation\n",
    "\n",
    "This problem consist in two separate poles that are attached by a hinge to a cart. The poles differ in length and mass and must both be balanced by hitting the cart. \n",
    "\n",
    "The double Pole Balancing task requires balancing two poles hinged on a wheeled cart with a finite length track defined in\n",
    "the interval $(-2.4<x<+2.4)$ and exerting a constant force, $F$ every $0.02 s$, in left and right direction. The pole is said to be unbalanced\n",
    "if either the angle of poles exceeds the threshold $(-36 < \\theta < +36)$ or the cart leaves the track. The equations of motion are\n",
    "\n",
    "$$\n",
    "\\begin{align}\n",
    "M &= m_c + m_1 + m_2 \\\\\n",
    "\\ddot{x} &= \\frac{g cos\\theta_1sin\\theta_1 + g cos\\theta_2 sin\\theta_2  - \\frac{7}{3}(F + m_1 l_1 sin\\theta_1\\dot{\\theta_1}^2 + m_2 l_2 sin\\theta_2\\dot{\\theta_2}^2) - \\frac{\\mu_1 \\dot{\\theta_1} cos\\theta_1}{l_1} - \\frac{\\mu_2 \\dot{\\theta_2} cos\\theta_2}{l_2}}{m_1cos^2\\theta_1 + m_2cos^2\\theta_2 - \\frac{7}{3}M} \\\\\n",
    "\\ddot{\\theta_1} &= \\frac{3}{7}\\frac{g sin\\theta_1 - \\ddot{x} cos\\theta_1 - \\frac{\\mu_1 \\dot{\\theta}_1}{m_1 l_1}}{l_1} \\\\\n",
    "\\ddot{\\theta_2} &= \\frac{3}{7}\\frac{g sin\\theta_2 - \\ddot{x} cos\\theta_2 - \\frac{\\mu_2 \\dot{\\theta}_2}{m_2 l_2}}{l_2}\n",
    "\\end{align}\n",
    "$$\n",
    "\n",
    "Source: \n",
    "\n",
    "https://sharpneat.sourceforge.io/research/cart-pole/cart-pole-equations.html\n",
    "\n",
    "### Reinforcement Learning approach\n",
    ">The first concept we have to keep in mind when we are doing reinforcement learning is that a lot of it takes place as a conversation between the $\\textbf{Agent}$ and the $\\textbf{Environment}$. The agent is going to reveal to the agent in the form of the state $\\textbf{S}$, which for our problem is a 6 dimensional vector who includes the generalized coordinates of the system:  $\\newline$\n",
    "$$\n",
    "S = (x, \\dot{x}, \\theta_1, \\dot{\\theta}_1, \\theta_2, \\dot{\\theta}_2)\n",
    "$$$\\newline$\n",
    "Then, the agent influence the environment by taking $\\textbf{actions}$ and it will receive back a $\\textbf{reward}$, this reward will be $1$ if the poles have not fallen yet. $\\newline$ \n",
    "This problem is $\\textbf{Model free}$ because there is not known of the transition probability distribution between states. So it is more convenient to use the $Q$-Value function instead of $V$-value. TD-Control with $Q$-value function is very convenient, because ideally once one has calculated the optimal value $Q^*(s,a)$, the optimal policy is easily found just by taking the action that maximizes it. $\\newline$ \n",
    "Recall the Bellman's optimality eq.$\\newline$ \n",
    "$$\n",
    "Q^*(s_t,a_t) = \\sum_{s'}p(s'|s_t,a_t)(r(s_t,a_t,s') + \\gamma max_a Q^{*}(s',a'))\n",
    "$$$\\newline$\n",
    "What we will trying to learn is an optimal policy defined as:$\\newline$\n",
    "$$ \n",
    "\\pi^*(a_t|s_t) = argmax_a Q^*(s_t,a_t)\n",
    "$$$\\newline$\n",
    "Once the agent is learning from their experience, we need a balance between $\\textbf{Exploration}$ and $\\textbf{Exploitation}$. The partial knowledge of the environment for the agent convert it in a dilemma if it should exploit the partial knowledge and receive some reward or should it explore the unknown actions which can possible result in much larget reward. $\\textbf{e-greedy}$ policy gives best results as it balances between exploitation of current knowledge and exploration of unknown territory. So the greedy policy is defined as$\\newline$\n",
    "$$\n",
    "\\pi^e(s_t) = \\left\\lbrace\\begin{array}{c} argmax_a Q(s_t,a_t) \\\\ any~a \\end{array}\\right.\n",
    "$$$\\newline$\n",
    "Where Q(s,a) in our case will be updated with $\\textbf{SARSA on poliy with TD learning}$$\\newline$ \n",
    "$$\n",
    "\\begin{align}\n",
    "a &= \\pi^e(s_t) \\\\\n",
    "Q(s_t,a_t) &= Q(s_t,a_t) + \\alpha (r_{t+1} + \\gamma Q(s_{t+1},a_{t+1}) - Q(s_t,a_t))\n",
    "\\end{align}\n",
    "$$$\\newline$\n",
    "It is on policy because the same policy that is evaluated and improve is also used to select actions.\n",
    "\n",
    "### Value Function approximation\n",
    "\n",
    "> One of the most immportant cases of function approximation is that in which the approximate function, is a linear function of the weight vector $w$. Corresponding to every state there is a real-valued vector called the feature vector $x$, with the same number of components as $w$\n",
    ">#### 1. Calculation\n",
    "We will define an auxiliary __weight__ vector $w$, such that the value is a function of both the state $s$ and $w$. We will write in a very general way $V(s, w)$, or $Q(s,a,w)$.\n",
    "$w$ contains all our knowledge of the value function for all states. At a given time $t$, we will have one vector ${w}^*$: then, the value function for all states will be calculated as $V(s, w*)$, or $Q(s,a,w*)$.\n",
    ">#### 2. Update\n",
    ">Since the **weights** $w$ contain all information on the value, we will not update anymore the value $V$ or $Q$ itself, but **we will update the weights $w$ instead**.\n",
    "The update will follow the rule. Where the values used to be changed with: (TD Learning)$\\newline$\n",
    "$$\n",
    "Q(s_t, a_t) \\leftarrow Q(s_t, a_t) + \\alpha (r_{t+1} + \\gamma Q(s_{t+1}, a_{t+1}) - Q(s_t, a_t)) \\\\\n",
    "$$\n",
    ">Now at time $t$ we update the weights as:\n",
    "$$\n",
    "w \\leftarrow w + \\alpha (r_{t+1} + \\gamma \\hat{Q}(s_{t+1}, a_{t+1}) - \\hat{Q}(s_t, a_t)) \\nabla \\hat{Q}(S_t, A_t, \\mathbf{w})\n",
    "$$$\\newline$\n",
    ">Where $\\nabla f = (\\frac{\\partial f}{\\partial w_1}, \\frac{\\partial f}{\\partial w_2},\\dots, \\frac{\\partial f}{\\partial w_d} )$. So instead of changing $Q$ directly, we update $Q$ _through_ the change in the weights $w$.\n",
    "\n",
    "###  Linear approximation.\n",
    "\n",
    ">First of all we construct a basis of $d$ _features_ $x = (x_1, x_2, \\dots, x_d)$ to evaluate the value functions. \n",
    "Each state then has a feature vector of $d$ real-valued components ${x}(s) = (x_1(s), x_2(s), x_2(s), \\dots, x_d(s))$.\n",
    "The convenient part of the _features_ is that its dimension can be much smaller than the actual state space $d << |S|$.$\\newline$\n",
    ">Features can be defined in many ways (but clearly work best when they are chosen with care).\n",
    "Then, the value function in the linear approximation reads as:$\\newline$\n",
    "$$\n",
    "V(s) = \\sum_i^d w_i x_i(s) \n",
    "$$ $\\newline$\n",
    ">_NB: The approximation can be done both for the state $s$ and for the action $a$! Since the \"cart pole\" example has only two allowed actions, we will deal only with approximation related to the state $s$ and keep the two actions distinct! So in our case we will have the Q-value in linear approximation, written as:_\n",
    "$$\n",
    "Q(s,a) = \\sum_i^d w_i^a x_i(s) \\,\\,\\,\\,\\,\\,\\,\\, a=0,1\n",
    "$$$\\newline$\n",
    "And we will keep two sets of weights $\\{w^a \\}$, one for each actions. The method we use today is therefore _half_ tabular (in action space) and _half_ in function approximation (in state space).\n",
    "\n",
    "### State aggregation.\n",
    ">State aggregation is a very straightforward method to choose the features to reduce the size/dimension of the state space.\n",
    "At its core, the state space is divided into regions $D_i$ and the components of $x(s)$ are just $x_i(s) = \\mathbb{1}(s \\in D_i)$.\n",
    "​\n",
    ">This means that we still have a **tabular entry for values**, not for each state $s$ but **for each region $D_i$**\n",
    "​\n",
    "​\n",
    "### The implementation of the algorithm:\n",
    ">- In a state $S_t$ we find $x(S_t)$ and calculate $Q(S_t, a, w) = w^T x(S_t)$\n",
    ">- We use  $Q(S_t, a, w)$ to select an action  $A_t$\n",
    ">- Acting on state $S_t$ with action $A_t$ we obtain the reward $R_{t+1}$ and the new state $S_{t+1}$\n",
    ">- We map $S_{t+1}$ in the corresponding $x(S_{t+1})$ (and $S_t$ to $x(S_{t})$)\n",
    ">- We update the value of the weights $w$ using $R_{t+1}$ and the previously estimated $Q(S_t, A_t, w)$\n",
    ">- What happens at the term $\\nabla \\hat{Q}(S_t, A_t, \\mathbf{w})$? Let us see what the estimate $Q$ is in terms of the features $x$ and weights $w$:$\\newline$\n",
    "\n",
    "$$\n",
    "Q(S_t, A_t, \\mathbf{w}) =  \\sum_i \\, w_i^{a=A_t} \\, x_i(S_t) \\\\\n",
    "Q(S_t, A_t, \\mathbf{w}) =  \\sum_i \\, w_i^{a=A_t} \\, \\mathbb{1}(S_t \\in D_i)\\\\\n",
    "Q(S_t, A_t, \\mathbf{w}) = w_j^{a=A_t}  \n",
    "$$$\\newline$\n",
    "​\n",
    ">Where $j$ is exactly the region to which $S_t$ belongs. \n",
    "In practice, the weights are exactly the estimation of the value for that region.\n",
    "($\\nabla \\hat{Q}(S_t, A_t, \\mathbf{w}) = (0,0,\\dots,1,\\dots,0)$, i.e. a vector of zeros with only a single $1$ at position $j_{th}$.)"
   ]
  },
  {
   "cell_type": "markdown",
   "id": "2f132745",
   "metadata": {},
   "source": [
    "## The environment\n",
    "\n",
    "For the Double Balancing problem, the environment of the $\\textbf{CartPole-v1}$ of the library $\\textbf{gym}$ have been modified and called $\\textbf{DoublePole-v0}$, were was included additionally another pole of different size and weight.\n",
    "\n",
    "The parameters used in the dynamics are:\n",
    "\n",
    "* $g = 9.8 m/s^2$\n",
    "\n",
    "* $m_c = 1.0 kg$\n",
    "\n",
    "* $m_1 = 0.10 kg$\n",
    "\n",
    "* $m_2 = 0.05 kg$\n",
    "\n",
    "* $M = m_c +m_1 + m_2$\n",
    "\n",
    "* $l_1 = 1 m$\n",
    "\n",
    "* $l_2 = 0.5 m$\n",
    "\n",
    "* $F = 50.0 N$\n",
    "\n",
    "* $\\tau = 0.02 s$\n",
    "\n",
    "**Friction coefficients**\n",
    "\n",
    "* $\\mu_c = 5x10^{-4}$ \n",
    "\n",
    "* $\\mu_{p1} = 2x10^{-6}$\n",
    "\n",
    "* $\\mu_{p2} = \\mu_{p2}$ "
   ]
  },
  {
   "cell_type": "code",
   "execution_count": 14,
   "id": "7b6870f1",
   "metadata": {},
   "outputs": [
    {
     "name": "stderr",
     "output_type": "stream",
     "text": [
      "C:\\Users\\ivana\\anaconda3\\lib\\site-packages\\gym\\logger.py:30: UserWarning: \u001b[33mWARN: You are calling 'step()' even though this environment has already returned done = True. You should always call 'reset()' once you receive 'done = True' -- any further steps are undefined behavior.\u001b[0m\n",
      "  warnings.warn(colorize('%s: %s'%('WARN', msg % args), 'yellow'))\n"
     ]
    }
   ],
   "source": [
    "#Checking the environment\n",
    "import gym\n",
    "from matplotlib import animation\n",
    "import matplotlib.pyplot as plt\n",
    "from matplotlib import animation\n",
    "\n",
    "env = gym.make('DoublePole-v0')\n",
    "env.reset()\n",
    "frames1 = []\n",
    "for _ in range(200):\n",
    "    #To make the video\n",
    "    frames1.append(env.render(mode = 'rgb_array'))\n",
    "    # for visualization\n",
    "    env.render()\n",
    "    # taking a random action\n",
    "    env.step(env.action_space.sample()) \n",
    "\n",
    "env.close()"
   ]
  },
  {
   "cell_type": "code",
   "execution_count": 16,
   "id": "102d3abb",
   "metadata": {},
   "outputs": [
    {
     "name": "stderr",
     "output_type": "stream",
     "text": [
      "MovieWriter imagemagick unavailable; using Pillow instead.\n"
     ]
    },
    {
     "data": {
      "image/png": "[encoded data removed]",
      "text/plain": [
       "<Figure size 432x288 with 1 Axes>"
      ]
     },
     "metadata": {
      "needs_background": "light"
     },
     "output_type": "display_data"
    }
   ],
   "source": [
    "#function to save as a gift\n",
    "def display_frames_as_gif(frames):\n",
    "    patch = plt.imshow(frames[0])\n",
    "    plt.axis('off')\n",
    "    def animate(i):\n",
    "        patch.set_data(frames[i])\n",
    "        \n",
    "    anim = animation.FuncAnimation(plt.gcf(), animate, frames = len(frames), interval=5)\n",
    "    anim.save('./resultsolo.gif', writer='imagemagick', fps=45)\n",
    "\n",
    "\n",
    "display_frames_as_gif(frames1)    "
   ]
  },
  {
   "cell_type": "markdown",
   "id": "96ee75e8",
   "metadata": {},
   "source": [
    "## State Space\n",
    "\n",
    "As it was mentioned earlier, the state space is a 6 dimensional vector who includes the generalized coordinates of the system:\n",
    "\n",
    "$$\n",
    "S = (x, \\dot{x}, \\theta_1, \\dot{\\theta}_1, \\theta_2, \\dot{\\theta}_2)\n",
    "$$\n",
    "\n",
    "This can be represented as a Box(6) object, which is a 6-dimensional vector of floats. Each dimension can be bounded, and represents the following observables:"
   ]
  },
  {
   "cell_type": "code",
   "execution_count": 3,
   "id": "4be5969f",
   "metadata": {},
   "outputs": [
    {
     "name": "stdout",
     "output_type": "stream",
     "text": [
      "State space:  Box(-3.4028234663852886e+38, 3.4028234663852886e+38, (6,), float32)\n",
      "\n",
      "1st element:\tPosition of the cart along the x-axis. Bounds: [-4.8, 4.8]\n",
      "2nd element:\tCart velocity. Not bounded\n",
      "3rd element:\tPole1 angle. Bounds in radiants: [-1.3, 1.3]\n",
      "4th element:\tPole1 velocity at its tip. Not bounded\n",
      "3rd element:\tPole2 angle. Bounds in radiants: [-1.3, 1.3]\n",
      "4th element:\tPole2 velocity at its tip. Not bounded\n"
     ]
    }
   ],
   "source": [
    "print(\"State space: \", env.observation_space)\n",
    "print()\n",
    "\n",
    "low_bounds, high_bounds = (env.observation_space.low, env.observation_space.high)\n",
    "print(\"1st element:\\tPosition of the cart along the x-axis. Bounds: [%2.1f, %2.1f]\" %(low_bounds[0], high_bounds[0]))\n",
    "print(\"2nd element:\\tCart velocity. Not bounded\")\n",
    "print(\"3rd element:\\tPole1 angle. Bounds in radiants: [%2.1f, %2.1f]\" %(low_bounds[2], high_bounds[2]))\n",
    "print(\"4th element:\\tPole1 velocity at its tip. Not bounded\")\n",
    "print(\"3rd element:\\tPole2 angle. Bounds in radiants: [%2.1f, %2.1f]\" %(low_bounds[2], high_bounds[2]))\n",
    "print(\"4th element:\\tPole2 velocity at its tip. Not bounded\")"
   ]
  },
  {
   "cell_type": "markdown",
   "id": "075d6779",
   "metadata": {},
   "source": [
    "## Sarsa Temporal difference control with state aggregation\n",
    "\n",
    "The next step is to construct a class who includes all that was mentioned before. This would be called $\\textbf{SARSA_TDControl_state_aggregation}$ and will contain 4 functions\n",
    "\n",
    "> * $\\textbf{state_aggregate}$:   This function creates regions in the space (a way to discretize). This is done by a binning approach as follows. $\\newline$\n",
    "A continuous variable $s$ defined in the interval $[s_{start}, s_{end}]$ could be divided into $N$ bins $\\{s_i\\}$, such that $x(s) = s_i$ if:$\\newline$\n",
    "$$\n",
    "s_{start} + i \\cdot (s_{end} + s_{start})/N < s < s_{start} + (i+1)\\cdot (s_{end} + s_{start})/N \n",
    "$$. $\\newline$\n",
    "We can do this in many dimensions. For example in 2D, we can divide each dimension, than for each state we have two identifying integers.$\\newline$\n",
    "> * $\\textbf{single_step_update}$: This function uses a single step to update the values, using Temporal Difference for Q values$\\newline$\n",
    "> * $\\textbf{get_action_epsilon_greedy}$: Chooses an action at random using an epsilon-greedy policy.$\\newline$\n",
    "> * $\\textbf{greedy_policy}$: This function refers to the probability of choosing to explore and exploits most of the time with a small chance of exploring"
   ]
  },
  {
   "cell_type": "code",
   "execution_count": 2,
   "id": "cf54e677",
   "metadata": {},
   "outputs": [],
   "source": [
    "class SARSA_TDControl_state_aggregation():\n",
    "    def __init__(self, space_size, action_size, binning, Nbinning, gamma=1, lr_v=0.5):\n",
    "        '''\n",
    "        Calculates optimal policy using in-policy Temporal Difference control\n",
    "        Approximate Q-value for (S,A) pairs, using one-step updates and state aggregation!\n",
    "        '''     \n",
    "        # the discount factor\n",
    "        self.gamma = gamma\n",
    "        # size of system\n",
    "        # We don't truly need the space_size anymore, we work in feature space!\n",
    "        self.feature_size = space_size\n",
    "        \n",
    "        # action size\n",
    "        self.action_size = action_size\n",
    "\n",
    "        # needed for state aggregation\n",
    "        self.binning = binning\n",
    "        self.Nbinning = Nbinning\n",
    "        \n",
    "        # the learning rate\n",
    "        self.lr_v = lr_v\n",
    "        \n",
    "        # We used to have Qvalues... now we have weights!\n",
    "        Nbins = self.Nbinning\n",
    "        \n",
    "        self.w = np.zeros((*Nbins, self.action_size))+50\n",
    "        \n",
    "    def state_aggregate(self, state):\n",
    "        '''\n",
    "        Function state agregation\n",
    "        \n",
    "        binning is an array who contains the information about the upper bound\n",
    "        and the lower bound of each dimension.\n",
    "        \n",
    "        Nbinning is the number of regions in which each dimension should be divided \n",
    "        \n",
    "        This function returns a feature vector x (in this case matrix for convenience) of all zeros except for one 1\n",
    "        and a vector x_indexes that is the exact position of the x (vector of indexes)\n",
    "        \n",
    "        The features belongs to a regions of the 6D array\n",
    "        \n",
    "        '''\n",
    "        # Nbinning is a tuple (N1, N2, N3, N4, N5, N6), with #bins for each of the six dimensions\n",
    "        # which define dimension of features\n",
    "        Nbins = self.Nbinning\n",
    "        x = np.zeros((*Nbins,))\n",
    "        \n",
    "        # x_indexes is the (only) index equal to 1 as dictated by the formula 1(s in D_s)\n",
    "        x_indexes = np.array([0,0,0,0,0,0], dtype='int')   #Wrong\n",
    "        \n",
    "        for i,s in enumerate(state):\n",
    "            #if the state is below the lower bound \n",
    "            if s <= self.binning[i,0]:\n",
    "                x_indexes[i] = 0\n",
    "            #if the state is above the upper bound \n",
    "            elif s >= self.binning[i,1]:\n",
    "                x_indexes[i] = self.Nbinning[i]-1\n",
    "            #else it is somewhere between\n",
    "            else :\n",
    "                x_indexes[i] = np.floor((s-self.binning[i,0])/(self.binning[i,1]-self.binning[i,0])*self.Nbinning[i])\n",
    "                \n",
    "        x[(*x_indexes,)] = 1\n",
    "        return x, x_indexes\n",
    "        \n",
    "        \n",
    "    def single_step_update(self, s, a, r, new_s, new_a, done):\n",
    "        ''' \n",
    "        Uses a single step to update the values, using Temporal Difference for Q values.\n",
    "        Employs the EXPERIENCED action in the new state  <- Q(S_new, A_new).\n",
    "        ''' \n",
    "        \n",
    "        x, x_index = self.state_aggregate(s)\n",
    "        new_x, new_x_index = self.state_aggregate(new_s)\n",
    "        \n",
    "        if done:\n",
    "         \n",
    "            deltaQ = (r + 0 - self.w[(*x_index, a)])\n",
    "            \n",
    "        else:\n",
    "            deltaQ = (r + self.gamma * self.w[(*new_x_index, new_a)] - self.w[(*x_index, a)])\n",
    "            \n",
    "        #Update\n",
    "        self.w[(*x_index, a)] += self.lr_v * deltaQ\n",
    "        \n",
    "        \n",
    "    def get_action_epsilon_greedy(self, s, eps):\n",
    "        ''' \n",
    "        Chooses an action at random using an epsilon-greedy policy with the current Q(s,a).\n",
    "        ''' \n",
    "        ran = np.random.rand()\n",
    "                      \n",
    "        # features of the state\n",
    "        x, x_index = self.state_aggregate(s)    \n",
    "       \n",
    "        Qvalue_approx = self.w[(*x_index,)]\n",
    "        \n",
    "        if (ran < eps):\n",
    "            # probability is uniform for all actions!\n",
    "            prob_actions = np.ones(self.action_size) / self.action_size \n",
    "        else:\n",
    "            # finding the best Qvalue\n",
    "            best_value = np.max( Qvalue_approx )\n",
    "            \n",
    "            # There could be actions with equal value! \n",
    "            best_actions = ( Qvalue_approx == best_value )\n",
    "\n",
    "            # The best actions is \n",
    "            prob_actions = best_actions / np.sum(best_actions)\n",
    "            \n",
    "        # Take one action from the array of actions with the probabilities as defined above.\n",
    "        a = np.random.choice(self.action_size, p=prob_actions)\n",
    "        return a \n",
    "        \n",
    "    def greedy_policy(self, s):\n",
    "        x, x_index = self.state_aggregate(s)  \n",
    "\n",
    "        Qvalue_approx = self.w[(*x_index,)]\n",
    "        greedy_pol = np.argmax(Qvalue_approx)\n",
    "        return greedy_pol, Qvalue_approx"
   ]
  },
  {
   "cell_type": "code",
   "execution_count": 10,
   "id": "129adb5b",
   "metadata": {},
   "outputs": [
    {
     "name": "stdout",
     "output_type": "stream",
     "text": [
      "0 10 20 30 40 50 60 70 80 90 100 110 120 130 140 150 160 170 180 190 200 210 220 230 240 250 260 270 280 290 300 310 320 330 340 350 360 370 380 390 400 410 420 430 440 450 460 470 480 490 500 510 520 530 540 550 560 570 580 590 600 610 620 630 640 650 660 670 680 690 700 710 720 730 740 750 760 770 780 790 800 810 820 830 840 850 860 870 880 890 900 910 920 930 940 950 960 970 980 990 1000 1010 1020 1030 1040 1050 1060 1070 1080 1090 1100 1110 1120 1130 1140 1150 1160 1170 1180 1190 1200 1210 1220 1230 1240 1250 1260 1270 1280 1290 1300 1310 1320 1330 1340 1350 1360 1370 1380 1390 1400 1410 1420 1430 1440 1450 1460 1470 1480 1490 1500 1510 1520 1530 1540 1550 1560 1570 1580 1590 1600 1610 1620 1630 1640 1650 1660 1670 1680 1690 1700 1710 1720 1730 1740 1750 1760 1770 1780 1790 1800 1810 1820 1830 1840 1850 1860 1870 1880 1890 1900 1910 1920 1930 1940 1950 1960 1970 1980 1990 2000 2010 2020 2030 2040 2050 2060 2070 2080 2090 2100 2110 2120 2130 2140 2150 2160 2170 2180 2190 2200 2210 2220 2230 2240 2250 2260 2270 2280 2290 2300 2310 2320 2330 2340 2350 2360 2370 2380 2390 2400 2410 2420 2430 2440 2450 2460 2470 2480 2490 2500 2510 2520 2530 2540 2550 2560 2570 2580 2590 2600 2610 2620 2630 2640 2650 2660 2670 2680 2690 2700 2710 2720 2730 2740 2750 2760 2770 2780 2790 2800 2810 2820 2830 2840 2850 2860 2870 2880 2890 2900 2910 2920 2930 2940 2950 2960 2970 2980 2990 3000 3010 3020 3030 3040 3050 3060 3070 3080 3090 3100 3110 3120 3130 3140 3150 3160 3170 3180 3190 3200 3210 3220 3230 3240 3250 3260 3270 3280 3290 3300 3310 3320 3330 3340 3350 3360 3370 3380 3390 3400 3410 3420 3430 3440 3450 3460 3470 3480 3490 3500 3510 3520 3530 3540 3550 3560 3570 3580 3590 3600 3610 3620 3630 3640 3650 3660 3670 3680 3690 3700 3710 3720 3730 3740 3750 3760 3770 3780 3790 3800 3810 3820 3830 3840 3850 3860 3870 3880 3890 3900 3910 3920 3930 3940 3950 3960 3970 3980 3990 4000 4010 4020 4030 4040 4050 4060 4070 4080 4090 4100 4110 4120 4130 4140 4150 4160 4170 4180 4190 4200 4210 4220 4230 4240 4250 4260 4270 4280 4290 4300 4310 4320 4330 4340 4350 4360 4370 4380 4390 4400 4410 4420 4430 4440 4450 4460 4470 4480 4490 4500 4510 4520 4530 4540 4550 4560 4570 4580 4590 4600 4610 4620 4630 4640 4650 4660 4670 4680 4690 4700 4710 4720 4730 4740 4750 4760 4770 4780 4790 4800 4810 4820 4830 4840 4850 4860 4870 4880 4890 4900 4910 4920 4930 4940 4950 4960 4970 4980 4990 5000 5010 5020 5030 5040 5050 5060 5070 5080 5090 5100 5110 5120 5130 5140 5150 5160 5170 5180 5190 5200 5210 5220 5230 5240 5250 5260 5270 5280 5290 5300 5310 5320 5330 5340 5350 5360 5370 5380 5390 5400 5410 5420 5430 5440 5450 5460 5470 5480 5490 5500 5510 5520 5530 5540 5550 5560 5570 5580 5590 5600 5610 5620 5630 5640 5650 5660 5670 5680 5690 5700 5710 5720 5730 5740 5750 5760 5770 5780 5790 5800 5810 5820 5830 5840 5850 5860 5870 5880 5890 5900 5910 5920 5930 5940 5950 5960 5970 5980 5990 579609\n"
     ]
    },
    {
     "data": {
      "text/plain": [
       "<matplotlib.legend.Legend at 0x14ebf487c70>"
      ]
     },
     "execution_count": 10,
     "metadata": {},
     "output_type": "execute_result"
    },
    {
     "data": {
      "image/png": "[encoded data removed]",
      "text/plain": [
       "<Figure size 720x432 with 1 Axes>"
      ]
     },
     "metadata": {
      "needs_background": "light"
     },
     "output_type": "display_data"
    }
   ],
   "source": [
    "# TD(0) CONTROL: SARSA over DoublePole with state aggregation.\n",
    "import numpy as np\n",
    "import gym\n",
    "import matplotlib.pyplot as plt\n",
    "\n",
    "n_episodes = 6000\n",
    "\n",
    "gamma = 1\n",
    "Nbinning=(1,1,3,3,3,6)\n",
    "binning=np.array([[-4.8, 4.8],[-2.8, 2.8],[-0.09,0.09],[-5,5],[-0.04,0.04],[-1.5,1.5]])\n",
    "\n",
    "# Initialize \n",
    "epsilon_0 = 1\n",
    "lr_v_0 = 0.5\n",
    "\n",
    "# Initialize algorithm\n",
    "SARSA = SARSA_TDControl_state_aggregation(space_size=6, \n",
    "                                          action_size=2, \n",
    "                                          binning=binning,\n",
    "                                          Nbinning=Nbinning,\n",
    "                                          gamma=gamma, \n",
    "                                          lr_v=lr_v_0)\n",
    "\n",
    "\n",
    "performance_traj_stateAggr = np.zeros(n_episodes)\n",
    "\n",
    "count = 0\n",
    "tstar = 0\n",
    "epsilon = epsilon_0\n",
    "\n",
    "env = gym.make('DoublePole-v0')\n",
    "env.reset()\n",
    "frames = []\n",
    "\n",
    "# Run over episodes\n",
    "for i in range(n_episodes):\n",
    "    done = False\n",
    "\n",
    "    if (i%10==0):\n",
    "        print(i, end=' ')\n",
    "    \n",
    "    s = env.reset()\n",
    "    a = SARSA.get_action_epsilon_greedy(s, epsilon)\n",
    "    \n",
    "    while not done:\n",
    "\n",
    "        # keeping track for convergence\n",
    "        count += 1\n",
    "        \n",
    "        # Evolve one step\n",
    "        new_s, r, done, info = env.step(a)\n",
    "        \n",
    "        # Keeps track of performance for each episode\n",
    "        performance_traj_stateAggr[i] += r\n",
    "        \n",
    "        # Choose new action index\n",
    "        new_a = SARSA.get_action_epsilon_greedy(new_s, epsilon)\n",
    "       \n",
    "        # Single update with (S, A, R', S', A')\n",
    "        SARSA.single_step_update(s, a, r, new_s, new_a, done)\n",
    "        \n",
    "        a = new_a\n",
    "        s = new_s\n",
    "        \n",
    "        if count > tstar:\n",
    "            \n",
    "            # UPDATE OF LEARNING\n",
    "            SARSA.lr_v = lr_v_0/(1 + 0.001*(count - tstar)**0.75)\n",
    "            \n",
    "            # UPDATE OF EPSILON\n",
    "            epsilon = epsilon_0/(1. + 0.001*(count - tstar)**1.05)\n",
    "            \n",
    "        if (i > 3000) & (i < 3015) :\n",
    "            frames.append(env.render(mode = 'rgb_array'))\n",
    "\n",
    "env.close()  \n",
    "print(count)\n",
    "fig, ax = plt.subplots(figsize=(10,6))  # Create a figure and an axes.\n",
    "ax.plot(np.arange(n_episodes), performance_traj_stateAggr, label='SARSA state aggregation', color ='k')\n",
    "ax.set_xlabel('Episodes')\n",
    "ax.legend()"
   ]
  },
  {
   "cell_type": "code",
   "execution_count": 14,
   "id": "52d40516",
   "metadata": {},
   "outputs": [
    {
     "data": {
      "image/png": "[encoded data removed]",
      "text/plain": [
       "<Figure size 720x432 with 1 Axes>"
      ]
     },
     "metadata": {
      "needs_background": "light"
     },
     "output_type": "display_data"
    }
   ],
   "source": [
    "#Creating the figure\n",
    "fig, ax = plt.subplots(figsize=(10,6))  # Create a figure and an axes.\n",
    "ax.plot(np.arange(n_episodes), performance_traj_stateAggr, label='SARSA state aggregation', color ='k')\n",
    "ax.set_xlabel('Episodes', family = 'serif', fontsize = 20)\n",
    "ax.set_ylabel('Accumulated reward', family = 'serif', fontsize = 20)\n",
    "plt.rc('xtick', labelsize=15)\n",
    "plt.rc('ytick', labelsize=15)\n",
    "ax.legend()\n",
    "ax.set_ylim(0,300)\n",
    "plt.savefig('Sarsa_state_aggregation.png')"
   ]
  },
  {
   "cell_type": "markdown",
   "id": "e7f4af2b",
   "metadata": {},
   "source": [
    "## Final note:\n",
    "\n",
    "The solution with state aggregation requires as entries previous knowledge of the system. That means that the selection of the binnings has to be choosen intelligently. What was done here was to pay attention to small angles of the poles and to the angular velocity of the second pole, due to the fact that it is the first to fall. More information added may improve the perfomance of the accumulated rewards. Another suggestion is to explore in a wide rage of parameters and then extract the physical information to confirm that this problem can be solved perfectly with state aggregation."
   ]
  },
  {
   "cell_type": "markdown",
   "id": "c92afcdb",
   "metadata": {},
   "source": [
    "# The video"
   ]
  },
  {
   "cell_type": "code",
   "execution_count": 13,
   "id": "efb0c9d8",
   "metadata": {},
   "outputs": [
    {
     "name": "stderr",
     "output_type": "stream",
     "text": [
      "MovieWriter imagemagick unavailable; using Pillow instead.\n"
     ]
    },
    {
     "data": {
      "image/png": "[encoded data removed]",
      "text/plain": [
       "<Figure size 432x288 with 1 Axes>"
      ]
     },
     "metadata": {
      "needs_background": "light"
     },
     "output_type": "display_data"
    }
   ],
   "source": [
    "from matplotlib import animation\n",
    "import matplotlib.pyplot as plt\n",
    "from matplotlib import animation\n",
    "def display_frames_as_gif(frames):\n",
    "    patch = plt.imshow(frames[0])\n",
    "    plt.axis('off')\n",
    "    def animate(i):\n",
    "        patch.set_data(frames[i])\n",
    "        \n",
    "    anim = animation.FuncAnimation(plt.gcf(), animate, frames = len(frames), interval=5)\n",
    "    anim.save('./result1.gif', writer='imagemagick', fps=30)\n",
    "\n",
    "display_frames_as_gif(frames) "
   ]
  },
  {
   "cell_type": "markdown",
   "id": "c69178d2",
   "metadata": {},
   "source": [
    "# References\n",
    "\n",
    "* https://github.com/epanizon/Lectures2021\n",
    "\n",
    "* https://towardsdatascience.com/how-to-beat-the-cartpole-game-in-5-lines-5ab4e738c93f\n",
    "\n",
    "* Van Hasselt, Hado. (2013). Reinforcement Learning in Continuous State and Action Spaces. 10.1007/978-3-642-27645-3_7. \n",
    "\n",
    "* Richard S. Sutton and Andrew G. Barto. 2018. Reinforcement Learning: An Introduction. A Bradford Book, Cambridge, MA, USA."
   ]
  }
 ],
 "metadata": {
  "kernelspec": {
   "display_name": "Python 3",
   "language": "python",
   "name": "python3"
  },
  "language_info": {
   "codemirror_mode": {
    "name": "ipython",
    "version": 3
   },
   "file_extension": ".py",
   "mimetype": "text/x-python",
   "name": "python",
   "nbconvert_exporter": "python",
   "pygments_lexer": "ipython3",
   "version": "3.8.8"
  }
 },
 "nbformat": 4,
 "nbformat_minor": 5
}
